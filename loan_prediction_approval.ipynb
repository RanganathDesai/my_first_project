{
 "cells": [
  {
   "cell_type": "code",
   "execution_count": null,
   "id": "12f59b54",
   "metadata": {},
   "outputs": [],
   "source": [
    "import pandas as pd \n",
    "import numpy as np \n",
    "import matplotlib.pyplot as plt \n",
    "import seaborn as sns \n",
    "\n",
    "data = pd.read_csv(\"LoanApprovalPrediction.csv\") \n"
   ]
  },
  {
   "cell_type": "code",
   "execution_count": null,
   "id": "2d26a1f7",
   "metadata": {},
   "outputs": [],
   "source": [
    "data.head(5)"
   ]
  },
  {
   "cell_type": "code",
   "execution_count": null,
   "id": "ea2fad17",
   "metadata": {},
   "outputs": [],
   "source": [
    "obj = (data.dtypes == 'object') \n",
    "print(\"Categorical variables:\",len(list(obj[obj].index)))"
   ]
  },
  {
   "cell_type": "code",
   "execution_count": null,
   "id": "e2319c9b",
   "metadata": {},
   "outputs": [],
   "source": [
    "# Dropping Loan_ID column \n",
    "data.drop(['Loan_ID'],axis=1,inplace=True)\n"
   ]
  },
  {
   "cell_type": "code",
   "execution_count": null,
   "id": "8f222060",
   "metadata": {},
   "outputs": [],
   "source": [
    "obj = (data.dtypes == 'object') \n",
    "object_cols = list(obj[obj].index) \n",
    "plt.figure(figsize=(18,36)) \n",
    "index = 1\n",
    "\n",
    "for col in object_cols: \n",
    "y = data[col].value_counts() \n",
    "plt.subplot(11,4,index) \n",
    "plt.xticks(rotation=90) \n",
    "sns.barplot(x=list(y.index), y=y) \n",
    "index +=1\n"
   ]
  },
  {
   "cell_type": "code",
   "execution_count": null,
   "id": "035d94ab",
   "metadata": {},
   "outputs": [],
   "source": [
    "# Import label encoder \n",
    "from sklearn import preprocessing \n",
    "\t\n",
    "# label_encoder object knows how \n",
    "# to understand word labels. \n",
    "label_encoder = preprocessing.LabelEncoder() \n",
    "obj = (data.dtypes == 'object') \n",
    "for col in list(obj[obj].index): \n",
    "data[col] = label_encoder.fit_transform(data[col])\n"
   ]
  },
  {
   "cell_type": "code",
   "execution_count": null,
   "id": "6d9c9491",
   "metadata": {},
   "outputs": [],
   "source": [
    "# To find the number of columns with \n",
    "# datatype==object \n",
    "obj = (data.dtypes == 'object') \n",
    "print(\"Categorical variables:\",len(list(obj[obj].index)))\n"
   ]
  },
  {
   "cell_type": "code",
   "execution_count": null,
   "id": "c9ed17f9",
   "metadata": {},
   "outputs": [],
   "source": [
    "plt.figure(figsize=(12,6)) \n",
    "\n",
    "sns.heatmap(data.corr(),cmap='BrBG',fmt='.2f', \n",
    "linewidths=2,annot=True)\n"
   ]
  },
  {
   "cell_type": "code",
   "execution_count": null,
   "id": "1aadc4af",
   "metadata": {},
   "outputs": [],
   "source": [
    "sns.catplot(x=\"Gender\", y=\"Married\", \n",
    "            hue=\"Loan_Status\", \n",
    "            kind=\"bar\", \n",
    "            data=data)\n"
   ]
  },
  {
   "cell_type": "code",
   "execution_count": null,
   "id": "19a2fac0",
   "metadata": {},
   "outputs": [],
   "source": [
    "for col in data.columns: \n",
    "data[col] = data[col].fillna(data[col].mean()) \n",
    "\n",
    "data.isna().sum()\n"
   ]
  },
  {
   "cell_type": "code",
   "execution_count": null,
   "id": "4b0ad6c6",
   "metadata": {},
   "outputs": [],
   "source": [
    "from sklearn.model_selection import train_test_split \n",
    "\n",
    "X = data.drop(['Loan_Status'],axis=1) \n",
    "Y = data['Loan_Status'] \n",
    "X.shape,Y.shape \n",
    "\n",
    "X_train, X_test, Y_train, Y_test = train_test_split(X, Y, \n",
    "                                                    test_size=0.4, \n",
    "                                                    random_state=1) \n",
    "X_train.shape, X_test.shape, Y_train.shape, Y_test.shape\n"
   ]
  },
  {
   "cell_type": "code",
   "execution_count": null,
   "id": "f938a258",
   "metadata": {},
   "outputs": [],
   "source": []
  },
  {
   "cell_type": "code",
   "execution_count": null,
   "id": "2ca404ea",
   "metadata": {},
   "outputs": [],
   "source": []
  },
  {
   "cell_type": "code",
   "execution_count": null,
   "id": "dd77f813",
   "metadata": {},
   "outputs": [],
   "source": []
  },
  {
   "cell_type": "code",
   "execution_count": null,
   "id": "58c91ed7",
   "metadata": {},
   "outputs": [],
   "source": []
  },
  {
   "cell_type": "code",
   "execution_count": null,
   "id": "58623df9",
   "metadata": {},
   "outputs": [],
   "source": []
  },
  {
   "cell_type": "code",
   "execution_count": null,
   "id": "ebef5952",
   "metadata": {},
   "outputs": [],
   "source": []
  },
  {
   "cell_type": "code",
   "execution_count": null,
   "id": "98440f0e",
   "metadata": {},
   "outputs": [],
   "source": []
  }
 ],
 "metadata": {
  "kernelspec": {
   "display_name": "Python 3 (ipykernel)",
   "language": "python",
   "name": "python3"
  },
  "language_info": {
   "codemirror_mode": {
    "name": "ipython",
    "version": 3
   },
   "file_extension": ".py",
   "mimetype": "text/x-python",
   "name": "python",
   "nbconvert_exporter": "python",
   "pygments_lexer": "ipython3",
   "version": "3.11.5"
  }
 },
 "nbformat": 4,
 "nbformat_minor": 5
}
